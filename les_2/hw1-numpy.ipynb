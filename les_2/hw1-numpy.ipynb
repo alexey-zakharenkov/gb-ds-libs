{
 "cells": [
  {
   "cell_type": "markdown",
   "id": "b683e39b",
   "metadata": {},
   "source": [
    "### Вычисления с помощью Numpy\n"
   ]
  },
  {
   "cell_type": "code",
   "execution_count": 11,
   "id": "e0578b11",
   "metadata": {},
   "outputs": [
    {
     "data": {
      "text/plain": [
       "array([2. , 7.6])"
      ]
     },
     "execution_count": 11,
     "metadata": {},
     "output_type": "execute_result"
    }
   ],
   "source": [
    "\"\"\"Задание 1\n",
    "\n",
    "Импортируйте библиотеку Numpy и дайте ей псевдоним np.\n",
    "Создайте массив Numpy под названием a размером 5x2, то есть \n",
    "состоящий из 5 строк и 2 столбцов. Первый столбец должен содержать\n",
    "числа 1, 2, 3, 3, 1, а второй - числа 6, 8, 11, 10, 7. \n",
    "Будем считать, что каждый столбец - это признак, а строка - наблюдение. \n",
    "Затем найдите среднее значение по каждому признаку, используя\n",
    "метод mean массива Numpy. Результат запишите в массив mean_a, в нем должно быть 2 элемента.\n",
    "\"\"\"\n",
    "\n",
    "import numpy as np\n",
    "\n",
    "a = np.array([\n",
    "    [1, 2],\n",
    "    [2, 8],\n",
    "    [3, 11],\n",
    "    [3, 10],\n",
    "    [1, 7],\n",
    "])\n",
    "\n",
    "mean_a = np.mean(a, axis=0)\n",
    "mean_a\n"
   ]
  },
  {
   "cell_type": "code",
   "execution_count": 12,
   "id": "55854568",
   "metadata": {},
   "outputs": [
    {
     "data": {
      "text/plain": [
       "array([[-1. , -5.6],\n",
       "       [ 0. ,  0.4],\n",
       "       [ 1. ,  3.4],\n",
       "       [ 1. ,  2.4],\n",
       "       [-1. , -0.6]])"
      ]
     },
     "execution_count": 12,
     "metadata": {},
     "output_type": "execute_result"
    }
   ],
   "source": [
    "\"\"\"Задание 2\n",
    "\n",
    "Вычислите массив a_centered, отняв от значений массива “а”\n",
    "средние значения соответствующих признаков, содержащиеся в массиве mean_a.\n",
    "Вычисление должно производиться в одно действие. Получившийся массив должен\n",
    "иметь размер 5x2.\n",
    "\"\"\"\n",
    "\n",
    "a_centered = a - mean_a\n",
    "a_centered"
   ]
  },
  {
   "cell_type": "code",
   "execution_count": 32,
   "id": "43e1139d",
   "metadata": {},
   "outputs": [
    {
     "data": {
      "text/plain": [
       "3.0"
      ]
     },
     "execution_count": 32,
     "metadata": {},
     "output_type": "execute_result"
    }
   ],
   "source": [
    "\"\"\"Задание 3\n",
    "\n",
    "Найдите скалярное произведение столбцов массива a_centered.\n",
    "В результате должна получиться величина a_centered_sp.\n",
    "Затем поделите a_centered_sp на N-1, где N - число наблюдений.\n",
    "\"\"\"\n",
    "a_centered_sp = np.dot(\n",
    "    #a_centered[:, :1] - это срез двумерного массива с shape=(5,2), имеющий shape=(5, 1)\n",
    "    a_centered[:, :1].flatten(),\n",
    "    a_centered[:, 1:].flatten()\n",
    ")\n",
    "a_centered_sp = a_centered_sp / (a.shape[0] - 1)\n",
    "a_centered_sp"
   ]
  },
  {
   "cell_type": "code",
   "execution_count": 35,
   "id": "19217364",
   "metadata": {},
   "outputs": [
    {
     "data": {
      "text/plain": [
       "3.0"
      ]
     },
     "execution_count": 35,
     "metadata": {},
     "output_type": "execute_result"
    }
   ],
   "source": [
    "\"\"\"Задание 4**\n",
    "\n",
    "Число, которое мы получили в конце задания 3 является ковариацией\n",
    "двух признаков, содержащихся в массиве “а”. В задании 4 мы делили\n",
    "сумму произведений центрированных признаков на N-1, а не на N,\n",
    "поэтому полученная нами величина является несмещенной оценкой ковариации.\n",
    "Подробнее узнать о ковариации можно здесь:\n",
    "Выборочная ковариация и выборочная дисперсия — Студопедия\n",
    "\n",
    "В этом задании проверьте получившееся число, вычислив ковариацию еще\n",
    "одним способом - с помощью функции np.cov. В качестве аргумента m\n",
    "функция np.cov должна принимать транспонированный массив “a”. В получившейся\n",
    "ковариационной матрице (массив Numpy размером 2x2) искомое значение\n",
    "ковариации будет равно элементу в строке с индексом 0 и столбце с индексом 1.\n",
    "\"\"\"\n",
    "\n",
    "a_centered_sp_2 = np.cov(a.T)\n",
    "a_centered_sp_2[0, 1]"
   ]
  }
 ],
 "metadata": {
  "kernelspec": {
   "display_name": "Python 3 (ipykernel)",
   "language": "python",
   "name": "python3"
  },
  "language_info": {
   "codemirror_mode": {
    "name": "ipython",
    "version": 3
   },
   "file_extension": ".py",
   "mimetype": "text/x-python",
   "name": "python",
   "nbconvert_exporter": "python",
   "pygments_lexer": "ipython3",
   "version": "3.8.10"
  }
 },
 "nbformat": 4,
 "nbformat_minor": 5
}
