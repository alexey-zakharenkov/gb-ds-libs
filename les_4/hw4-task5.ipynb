{
 "cells": [
  {
   "cell_type": "markdown",
   "id": "eb63402a",
   "metadata": {
    "scrolled": true
   },
   "source": [
    "## Задание на повторение материала"
   ]
  },
  {
   "cell_type": "code",
   "execution_count": 3,
   "id": "5a9e9102",
   "metadata": {},
   "outputs": [
    {
     "data": {
      "text/plain": [
       "array([12, 13, 14, 15, 16, 17, 18, 19, 20, 21, 22, 23])"
      ]
     },
     "execution_count": 3,
     "metadata": {},
     "output_type": "execute_result"
    }
   ],
   "source": [
    "\"\"\" 1. \n",
    "Создать одномерный массив Numpy под названием a из 12\n",
    "последовательных целых чисел чисел от 12 до 24 невключительно\n",
    "\"\"\"\n",
    "\n",
    "import numpy as np\n",
    "\n",
    "a = np.arange(12, 24)"
   ]
  },
  {
   "cell_type": "code",
   "execution_count": 4,
   "id": "d855b487",
   "metadata": {},
   "outputs": [
    {
     "data": {
      "text/plain": [
       "(array([[12, 13, 14, 15, 16, 17, 18, 19, 20, 21, 22, 23]]),\n",
       " array([[12, 13, 14, 15, 16, 17],\n",
       "        [18, 19, 20, 21, 22, 23]]),\n",
       " array([[12, 13, 14, 15],\n",
       "        [16, 17, 18, 19],\n",
       "        [20, 21, 22, 23]]),\n",
       " array([[12, 13, 14],\n",
       "        [15, 16, 17],\n",
       "        [18, 19, 20],\n",
       "        [21, 22, 23]]),\n",
       " array([[12, 13],\n",
       "        [14, 15],\n",
       "        [16, 17],\n",
       "        [18, 19],\n",
       "        [20, 21],\n",
       "        [22, 23]]))"
      ]
     },
     "execution_count": 4,
     "metadata": {},
     "output_type": "execute_result"
    }
   ],
   "source": [
    "\"\"\" 2.\n",
    "Создать 5 двумерных массивов разной формы из массива a.\n",
    "Не использовать в аргументах метода reshape число -1.\n",
    "\"\"\"\n",
    "a1 = a.reshape(1, 12)\n",
    "a2 = a.reshape(2, 6)\n",
    "a3 = a.reshape(3, 4)\n",
    "a4 = a.reshape(4, 3)\n",
    "a5 = a.reshape(6, 2)\n",
    "\n",
    "a1, a2, a3, a4, a5"
   ]
  },
  {
   "cell_type": "code",
   "execution_count": 5,
   "id": "a502a1ec",
   "metadata": {},
   "outputs": [
    {
     "data": {
      "text/plain": [
       "(array([[12, 13, 14, 15, 16, 17, 18, 19, 20, 21, 22, 23]]),\n",
       " array([[12, 13, 14, 15, 16, 17],\n",
       "        [18, 19, 20, 21, 22, 23]]),\n",
       " array([[12, 13, 14, 15],\n",
       "        [16, 17, 18, 19],\n",
       "        [20, 21, 22, 23]]),\n",
       " array([[12, 13, 14],\n",
       "        [15, 16, 17],\n",
       "        [18, 19, 20],\n",
       "        [21, 22, 23]]),\n",
       " array([[12, 13],\n",
       "        [14, 15],\n",
       "        [16, 17],\n",
       "        [18, 19],\n",
       "        [20, 21],\n",
       "        [22, 23]]))"
      ]
     },
     "execution_count": 5,
     "metadata": {},
     "output_type": "execute_result"
    }
   ],
   "source": [
    "\"\"\" 3.\n",
    "Создать 5 двумерных массивов разной формы из массива a.\n",
    "Использовать в аргументах метода reshape число -1\n",
    "(в трех примерах - для обозначения числа столбцов, в двух - для строк).\n",
    "\"\"\"\n",
    "\n",
    "b1 = a.reshape(1, -1)\n",
    "b2 = a.reshape(2, -1)\n",
    "b3 = a.reshape(3, -1)\n",
    "b4 = a.reshape(-1, 3)\n",
    "b5 = a.reshape(-1, 2)\n",
    "\n",
    "b1, b2, b3, b4, b5"
   ]
  },
  {
   "cell_type": "code",
   "execution_count": 21,
   "id": "1b2b60c5",
   "metadata": {},
   "outputs": [
    {
     "name": "stdout",
     "output_type": "stream",
     "text": [
      "[[ 1]\n",
      " [ 2]\n",
      " [ 3]\n",
      " [ 4]\n",
      " [ 5]\n",
      " [ 6]\n",
      " [ 7]\n",
      " [ 8]\n",
      " [ 9]\n",
      " [10]\n",
      " [11]\n",
      " [12]] (12, 1) 2 [78]\n",
      "[ 1  2  3  4  5  6  7  8  9 10 11 12] (12,) 1 78\n"
     ]
    }
   ],
   "source": [
    "\"\"\" 4. Можно ли массив Numpy, состоящий из одного столбца и 12 строк, назвать одномерным?\n",
    "\"\"\"\n",
    "\n",
    "# Ответ - нет, он не будет поддерживать операции, где ожидается одномерный массив,\n",
    "# или будет делать не то, что ожидается\n",
    "c = np.arange(1, 13).reshape(12, 1)\n",
    "print(c, c.shape, c.ndim, sum(c))\n",
    "\n",
    "d = c.flatten()\n",
    "print(d, d.shape, d.ndim, sum(d))"
   ]
  },
  {
   "cell_type": "code",
   "execution_count": 24,
   "id": "7d6b0139",
   "metadata": {},
   "outputs": [
    {
     "data": {
      "text/plain": [
       "(array([[ 0.12553693, -1.02024177,  0.33193263,  0.71749704],\n",
       "        [-0.47479657, -0.56122968, -0.5630684 ,  1.09421739],\n",
       "        [-1.367206  ,  1.03651292, -0.92396814, -0.19389219]]),\n",
       " array([ 0.12553693, -1.02024177,  0.33193263,  0.71749704, -0.47479657,\n",
       "        -0.56122968, -0.5630684 ,  1.09421739, -1.367206  ,  1.03651292,\n",
       "        -0.92396814, -0.19389219]))"
      ]
     },
     "execution_count": 24,
     "metadata": {},
     "output_type": "execute_result"
    }
   ],
   "source": [
    "\"\"\" 5.\n",
    "Создать массив из 3 строк и 4 столбцов, состоящий из случайных чисел\n",
    "с плавающей запятой из нормального распределения со средним,\n",
    "равным 0 и среднеквадратичным отклонением, равным 1.0.\n",
    "Получить из этого массива одномерный массив с таким же атрибутом size,\n",
    "как и исходный массив.\n",
    "\"\"\"\n",
    "norm = np.random.normal(size=(3,4))\n",
    "norm1 = norm.flatten()\n",
    "norm, norm1"
   ]
  },
  {
   "cell_type": "code",
   "execution_count": 26,
   "id": "a419b73b",
   "metadata": {},
   "outputs": [
    {
     "data": {
      "text/plain": [
       "array([20, 18, 16, 14, 12, 10,  8,  6,  4,  2])"
      ]
     },
     "execution_count": 26,
     "metadata": {},
     "output_type": "execute_result"
    }
   ],
   "source": [
    "\"\"\" 6.\n",
    "Создать массив a, состоящий из целых чисел, убывающих\n",
    "от 20 до 0 невключительно с интервалом 2.\"\"\"\n",
    "a = np.arange(20, 0, -2)\n",
    "a"
   ]
  },
  {
   "cell_type": "code",
   "execution_count": 33,
   "id": "6e2e501e",
   "metadata": {},
   "outputs": [
    {
     "data": {
      "text/plain": [
       "(array([[20, 18, 16, 14, 12, 10,  8,  6,  4,  2]]),\n",
       " 'Разница между массивами a и b в свойствах ndim и shape')"
      ]
     },
     "execution_count": 33,
     "metadata": {},
     "output_type": "execute_result"
    }
   ],
   "source": [
    "\"\"\" 7.\n",
    "Создать массив b, состоящий из 1 строки и 10 столбцов: целых чисел,\n",
    "убывающих от 20 до 1 невключительно с интервалом 2.\n",
    "В чем разница между массивами a и b?\n",
    "\"\"\"\n",
    "\n",
    "b = np.array([np.arange(20, 0, -2)])\n",
    "b, \"Разница между массивами a и b в свойствах ndim и shape\""
   ]
  },
  {
   "cell_type": "code",
   "execution_count": 37,
   "id": "2d451ffc",
   "metadata": {},
   "outputs": [
    {
     "data": {
      "text/plain": [
       "(array([[0., 0.],\n",
       "        [0., 0.],\n",
       "        [1., 1.],\n",
       "        [1., 1.],\n",
       "        [1., 1.]]),\n",
       " 10)"
      ]
     },
     "execution_count": 37,
     "metadata": {},
     "output_type": "execute_result"
    }
   ],
   "source": [
    "\"\"\" 8.\n",
    "Вертикально соединить массивы a и b. a - двумерный массив из нулей\n",
    "число строк которого больше 1 и на 1 меньше, чем число строк двумерного\n",
    "массива b, состоящего из единиц. Итоговый массив v должен иметь\n",
    "атрибут size, равный 10.\n",
    "\"\"\"\n",
    "# (rows1+rows2)*columns == 10, rows2 == rows1 + 1 ==> rows1 = 2, rows2 = 3, columns = 2\n",
    "\n",
    "a = np.zeros((2, 2))\n",
    "b = np.ones((3, 2))\n",
    "v = np.vstack((a, b))\n",
    "v, v.size\n"
   ]
  },
  {
   "cell_type": "code",
   "execution_count": 45,
   "id": "ece7fe0f",
   "metadata": {},
   "outputs": [
    {
     "ename": "LinAlgError",
     "evalue": "Singular matrix",
     "output_type": "error",
     "traceback": [
      "\u001b[0;31m---------------------------------------------------------------------------\u001b[0m",
      "\u001b[0;31mLinAlgError\u001b[0m                               Traceback (most recent call last)",
      "\u001b[0;32m/tmp/ipykernel_46968/1276112780.py\u001b[0m in \u001b[0;36m<module>\u001b[0;34m\u001b[0m\n\u001b[1;32m     15\u001b[0m \u001b[0mB\u001b[0m \u001b[0;34m=\u001b[0m \u001b[0mA\u001b[0m\u001b[0;34m.\u001b[0m\u001b[0mdot\u001b[0m\u001b[0;34m(\u001b[0m\u001b[0mAt\u001b[0m\u001b[0;34m)\u001b[0m\u001b[0;34m\u001b[0m\u001b[0;34m\u001b[0m\u001b[0m\n\u001b[1;32m     16\u001b[0m \u001b[0mnp\u001b[0m\u001b[0;34m.\u001b[0m\u001b[0mlinalg\u001b[0m\u001b[0;34m.\u001b[0m\u001b[0mdet\u001b[0m\u001b[0;34m(\u001b[0m\u001b[0mB\u001b[0m\u001b[0;34m)\u001b[0m \u001b[0;31m# == 0.0\u001b[0m\u001b[0;34m\u001b[0m\u001b[0;34m\u001b[0m\u001b[0m\n\u001b[0;32m---> 17\u001b[0;31m \u001b[0mnp\u001b[0m\u001b[0;34m.\u001b[0m\u001b[0mlinalg\u001b[0m\u001b[0;34m.\u001b[0m\u001b[0minv\u001b[0m\u001b[0;34m(\u001b[0m\u001b[0mB\u001b[0m\u001b[0;34m)\u001b[0m \u001b[0;31m# Error: singular matrix\u001b[0m\u001b[0;34m\u001b[0m\u001b[0;34m\u001b[0m\u001b[0m\n\u001b[0m",
      "\u001b[0;32m<__array_function__ internals>\u001b[0m in \u001b[0;36minv\u001b[0;34m(*args, **kwargs)\u001b[0m\n",
      "\u001b[0;32m~/dev/python/python3.8-venv/lib/python3.8/site-packages/numpy/linalg/linalg.py\u001b[0m in \u001b[0;36minv\u001b[0;34m(a)\u001b[0m\n\u001b[1;32m    543\u001b[0m     \u001b[0msignature\u001b[0m \u001b[0;34m=\u001b[0m \u001b[0;34m'D->D'\u001b[0m \u001b[0;32mif\u001b[0m \u001b[0misComplexType\u001b[0m\u001b[0;34m(\u001b[0m\u001b[0mt\u001b[0m\u001b[0;34m)\u001b[0m \u001b[0;32melse\u001b[0m \u001b[0;34m'd->d'\u001b[0m\u001b[0;34m\u001b[0m\u001b[0;34m\u001b[0m\u001b[0m\n\u001b[1;32m    544\u001b[0m     \u001b[0mextobj\u001b[0m \u001b[0;34m=\u001b[0m \u001b[0mget_linalg_error_extobj\u001b[0m\u001b[0;34m(\u001b[0m\u001b[0m_raise_linalgerror_singular\u001b[0m\u001b[0;34m)\u001b[0m\u001b[0;34m\u001b[0m\u001b[0;34m\u001b[0m\u001b[0m\n\u001b[0;32m--> 545\u001b[0;31m     \u001b[0mainv\u001b[0m \u001b[0;34m=\u001b[0m \u001b[0m_umath_linalg\u001b[0m\u001b[0;34m.\u001b[0m\u001b[0minv\u001b[0m\u001b[0;34m(\u001b[0m\u001b[0ma\u001b[0m\u001b[0;34m,\u001b[0m \u001b[0msignature\u001b[0m\u001b[0;34m=\u001b[0m\u001b[0msignature\u001b[0m\u001b[0;34m,\u001b[0m \u001b[0mextobj\u001b[0m\u001b[0;34m=\u001b[0m\u001b[0mextobj\u001b[0m\u001b[0;34m)\u001b[0m\u001b[0;34m\u001b[0m\u001b[0;34m\u001b[0m\u001b[0m\n\u001b[0m\u001b[1;32m    546\u001b[0m     \u001b[0;32mreturn\u001b[0m \u001b[0mwrap\u001b[0m\u001b[0;34m(\u001b[0m\u001b[0mainv\u001b[0m\u001b[0;34m.\u001b[0m\u001b[0mastype\u001b[0m\u001b[0;34m(\u001b[0m\u001b[0mresult_t\u001b[0m\u001b[0;34m,\u001b[0m \u001b[0mcopy\u001b[0m\u001b[0;34m=\u001b[0m\u001b[0;32mFalse\u001b[0m\u001b[0;34m)\u001b[0m\u001b[0;34m)\u001b[0m\u001b[0;34m\u001b[0m\u001b[0;34m\u001b[0m\u001b[0m\n\u001b[1;32m    547\u001b[0m \u001b[0;34m\u001b[0m\u001b[0m\n",
      "\u001b[0;32m~/dev/python/python3.8-venv/lib/python3.8/site-packages/numpy/linalg/linalg.py\u001b[0m in \u001b[0;36m_raise_linalgerror_singular\u001b[0;34m(err, flag)\u001b[0m\n\u001b[1;32m     86\u001b[0m \u001b[0;34m\u001b[0m\u001b[0m\n\u001b[1;32m     87\u001b[0m \u001b[0;32mdef\u001b[0m \u001b[0m_raise_linalgerror_singular\u001b[0m\u001b[0;34m(\u001b[0m\u001b[0merr\u001b[0m\u001b[0;34m,\u001b[0m \u001b[0mflag\u001b[0m\u001b[0;34m)\u001b[0m\u001b[0;34m:\u001b[0m\u001b[0;34m\u001b[0m\u001b[0;34m\u001b[0m\u001b[0m\n\u001b[0;32m---> 88\u001b[0;31m     \u001b[0;32mraise\u001b[0m \u001b[0mLinAlgError\u001b[0m\u001b[0;34m(\u001b[0m\u001b[0;34m\"Singular matrix\"\u001b[0m\u001b[0;34m)\u001b[0m\u001b[0;34m\u001b[0m\u001b[0;34m\u001b[0m\u001b[0m\n\u001b[0m\u001b[1;32m     89\u001b[0m \u001b[0;34m\u001b[0m\u001b[0m\n\u001b[1;32m     90\u001b[0m \u001b[0;32mdef\u001b[0m \u001b[0m_raise_linalgerror_nonposdef\u001b[0m\u001b[0;34m(\u001b[0m\u001b[0merr\u001b[0m\u001b[0;34m,\u001b[0m \u001b[0mflag\u001b[0m\u001b[0;34m)\u001b[0m\u001b[0;34m:\u001b[0m\u001b[0;34m\u001b[0m\u001b[0;34m\u001b[0m\u001b[0m\n",
      "\u001b[0;31mLinAlgError\u001b[0m: Singular matrix"
     ]
    }
   ],
   "source": [
    "\"\"\" 9.\n",
    "Создать одномерный массив а, состоящий из последовательности\n",
    "целых чисел от 0 до 12. Поменять форму этого массива, чтобы\n",
    "получилась матрица A (двумерный массив Numpy), состоящая из\n",
    "4 строк и 3 столбцов. Получить матрицу At путем транспонирования\n",
    "матрицы A. Получить матрицу B, умножив матрицу A на матрицу At\n",
    "с помощью матричного умножения. Какой размер имеет матрица B?\n",
    "Получится ли вычислить обратную матрицу для матрицы B и почему?\n",
    "\"\"\"\n",
    "\n",
    "a = np.arange(0, 12)\n",
    "A = a.reshape((4, 3))\n",
    "At = A.T\n",
    "At\n",
    "B = A.dot(At)\n",
    "np.linalg.det(B) # == 0.0\n",
    "np.linalg.inv(B) # Error: singular matrix"
   ]
  },
  {
   "cell_type": "code",
   "execution_count": 49,
   "id": "d1028597",
   "metadata": {},
   "outputs": [],
   "source": [
    "\"\"\" 10.\n",
    "Инициализируйте генератор случайных числе с помощью объекта seed, равного 42.\n",
    "\"\"\"\n",
    "np.random.seed(42)\n"
   ]
  },
  {
   "cell_type": "code",
   "execution_count": 50,
   "id": "4f5c0b28",
   "metadata": {},
   "outputs": [
    {
     "data": {
      "text/plain": [
       "array([ 6,  3, 12, 14, 10,  7, 12,  4,  6,  9,  2,  6, 10, 10,  7,  4])"
      ]
     },
     "execution_count": 50,
     "metadata": {},
     "output_type": "execute_result"
    }
   ],
   "source": [
    "\"\"\" 11.\n",
    "Создайте одномерный массив c, составленный из последовательности\n",
    "16-ти случайных равномерно распределенных целых чисел от 0 до 16 невключительно. \n",
    "\"\"\"\n",
    "\n",
    "c = np.random.randint(0, 16, size=16)\n",
    "c"
   ]
  },
  {
   "cell_type": "code",
   "execution_count": 54,
   "id": "0bc05c21",
   "metadata": {},
   "outputs": [
    {
     "data": {
      "text/plain": [
       "(-28511999.999999944,\n",
       " 4,\n",
       " array([[ 0.00935396,  0.04486532,  0.05897517, -0.07286055],\n",
       "        [-0.01503577, -0.00122896, -0.00192971,  0.00967873],\n",
       "        [-0.00356692, -0.01782828, -0.04152146,  0.04326178],\n",
       "        [ 0.00909091, -0.00181818,  0.01272727, -0.01090909]]))"
      ]
     },
     "execution_count": 54,
     "metadata": {},
     "output_type": "execute_result"
    }
   ],
   "source": [
    "\"\"\" 12.\n",
    "Поменяйте его форму так, чтобы получилась квадратная матрица C\n",
    "Получите матрицу D, поэлементно прибавив матрицу B из предыдущего\n",
    "вопроса к матрице C, умноженной на 10. Вычислите определитель,\n",
    "ранг и обратную матрицу D_inv для D.\n",
    "\"\"\"\n",
    "\n",
    "C = c.reshape((4, 4))\n",
    "D = B + C*10\n",
    "det = np.linalg.det(D)\n",
    "rank = np.linalg.matrix_rank(D)\n",
    "D_inv = np.linalg.inv(D)\n",
    "det, rank, D_inv"
   ]
  },
  {
   "cell_type": "code",
   "execution_count": 59,
   "id": "f4f46b14",
   "metadata": {},
   "outputs": [
    {
     "data": {
      "text/plain": [
       "array([[  5,  14,  23,  14],\n",
       "       [ 10,   7,  12, 122],\n",
       "       [  6,   9,   2, 212],\n",
       "       [ 32,  10, 212,   4]])"
      ]
     },
     "execution_count": 59,
     "metadata": {},
     "output_type": "execute_result"
    }
   ],
   "source": [
    "\"\"\" 13.\n",
    "Приравняйте к нулю отрицательные числа в матрице D_inv,\n",
    "а положительные - к единице. Убедитесь, что в матрице D_inv\n",
    "остались только нули и единицы. С помощью функции numpy.where,\n",
    "используя матрицу D_inv в качестве маски, а матрицы B и C -\n",
    "в качестве источников данных, получите матрицу E размером 4x4.\n",
    "Элементы матрицы E, для которых соответствующий элемент матрицы\n",
    "D_inv равен 1, должны быть равны соответствующему элементу\n",
    "матрицы B, а элементы матрицы E, для которых соответствующий\n",
    "элемент матрицы D_inv равен 0, должны быть равны соответствующему\n",
    "элементу матрицы C.\n",
    "\"\"\"\n",
    "\n",
    "for i in range(D_inv.shape[0]):\n",
    "    for j in range(D_inv.shape[1]):\n",
    "        if D_inv[i][j] <= 0:\n",
    "            D_inv[i][j] = 0\n",
    "        else:\n",
    "            D_inv[i][j] = 1\n",
    "\n",
    "E = np.where(D_inv, B, C)\n",
    "E"
   ]
  }
 ],
 "metadata": {
  "kernelspec": {
   "display_name": "Python 3 (ipykernel)",
   "language": "python",
   "name": "python3"
  },
  "language_info": {
   "codemirror_mode": {
    "name": "ipython",
    "version": 3
   },
   "file_extension": ".py",
   "mimetype": "text/x-python",
   "name": "python",
   "nbconvert_exporter": "python",
   "pygments_lexer": "ipython3",
   "version": "3.8.10"
  }
 },
 "nbformat": 4,
 "nbformat_minor": 5
}
